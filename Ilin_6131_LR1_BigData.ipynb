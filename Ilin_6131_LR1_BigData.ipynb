{
 "cells": [
  {
   "cell_type": "markdown",
   "id": "265271cd-6376-433f-aa86-0fa4f9623306",
   "metadata": {},
   "source": [
    "## Импортирование необходимых модулей"
   ]
  },
  {
   "cell_type": "code",
   "execution_count": 1,
   "id": "b7c5efdc-cced-4028-a5eb-f495f2651f49",
   "metadata": {},
   "outputs": [],
   "source": [
    "from pyspark import SparkContext, SparkConf\n",
    "\n",
    "import pyspark.sql as sql\n",
    "from pyspark.sql import SparkSession\n",
    "from pyspark.sql.types import DoubleType\n",
    "from pyspark.sql.functions import udf, col, max, sum, countDistinct"
   ]
  },
  {
   "cell_type": "markdown",
   "id": "3faf1642-14f6-49cd-910d-c653598c1e78",
   "metadata": {},
   "source": [
    "## Инициализация сессии"
   ]
  },
  {
   "cell_type": "markdown",
   "id": "b8bef5e3-938b-4d25-a64c-f1ca978a7c63",
   "metadata": {},
   "source": [
    "Для начала работы с PySpark необходима инициализация сессии"
   ]
  },
  {
   "cell_type": "code",
   "execution_count": 2,
   "id": "5ef103f9-2132-4bf1-a4bb-c320cd5f3828",
   "metadata": {},
   "outputs": [],
   "source": [
    "spark = SparkSession \\\n",
    "    .builder \\\n",
    "    .appName(\"L1_interactive_bike_analysis\") \\\n",
    "    .getOrCreate()"
   ]
  },
  {
   "cell_type": "code",
   "execution_count": 15,
   "id": "fb49b53b-6be4-410f-8c66-0bae39644b3b",
   "metadata": {},
   "outputs": [
    {
     "data": {
      "text/plain": [
       "'3.1.2.0-eep-800'"
      ]
     },
     "execution_count": 15,
     "metadata": {},
     "output_type": "execute_result"
    }
   ],
   "source": [
    "spark.version"
   ]
  },
  {
   "cell_type": "markdown",
   "id": "8a68c747-2766-4685-b8ee-7da1f3382cd2",
   "metadata": {},
   "source": [
    "## Загрузка данных"
   ]
  },
  {
   "cell_type": "code",
   "execution_count": 45,
   "id": "2635a75f-b35d-4e29-9b12-dc2b85897341",
   "metadata": {},
   "outputs": [
    {
     "name": "stdout",
     "output_type": "stream",
     "text": [
      "trips.csv\n"
     ]
    }
   ],
   "source": [
    "import os\n",
    "# загрузка датасетов trips, stations\n",
    "data_path = os.path.join(os.curdir, \"data\")\n",
    "# data_path = os.path.join(os.getcwd(), \"data\")\n",
    "trips_path = os.path.join(\"trips.csv\")\n",
    "stations_path = os.path.join(\"stations.csv\")"
   ]
  },
  {
   "cell_type": "code",
   "execution_count": 48,
   "id": "8fe6ebdd-128a-4dcd-b366-84b212f10de6",
   "metadata": {},
   "outputs": [
    {
     "name": "stdout",
     "output_type": "stream",
     "text": [
      "put: `/user/glebilin6/stations.csv': File exists\n"
     ]
    }
   ],
   "source": [
    "# Копируем файлы из local file system в HDFS\n",
    "\n",
    "# !hadoop fs -put trips.csv /user/glebilin6\n",
    "# !hadoop fs -put stations.csv /user/glebilin6"
   ]
  },
  {
   "cell_type": "code",
   "execution_count": 49,
   "id": "4e8a8700-dcd1-414d-95e6-9bd81f83a164",
   "metadata": {},
   "outputs": [
    {
     "name": "stdout",
     "output_type": "stream",
     "text": [
      "-rwxr-xr-x   3 glebilin6 glebilin6       5647 2023-11-20 13:54 /user/glebilin6/stations.csv\n"
     ]
    }
   ],
   "source": [
    "# Проверяем наличие файла в нужной директории\n",
    "\n",
    "# !hadoop fs -ls /user/glebilin6/trips.csv\n",
    "# !hadoop fs -ls /user/glebilin6/stations.csv"
   ]
  },
  {
   "cell_type": "code",
   "execution_count": 50,
   "id": "054e0c2d-e211-497a-a704-87ec65655257",
   "metadata": {},
   "outputs": [
    {
     "name": "stdout",
     "output_type": "stream",
     "text": [
      "Trips\n",
      "root\n",
      " |-- id: integer (nullable = true)\n",
      " |-- duration: integer (nullable = true)\n",
      " |-- start_date: timestamp (nullable = true)\n",
      " |-- start_station_name: string (nullable = true)\n",
      " |-- start_station_id: integer (nullable = true)\n",
      " |-- end_date: timestamp (nullable = true)\n",
      " |-- end_station_name: string (nullable = true)\n",
      " |-- end_station_id: integer (nullable = true)\n",
      " |-- bike_id: integer (nullable = true)\n",
      " |-- subscription_type: string (nullable = true)\n",
      " |-- zip_code: string (nullable = true)\n",
      "\n",
      "Stations\n",
      "root\n",
      " |-- id: integer (nullable = true)\n",
      " |-- name: string (nullable = true)\n",
      " |-- lat: double (nullable = true)\n",
      " |-- long: double (nullable = true)\n",
      " |-- dock_count: integer (nullable = true)\n",
      " |-- city: string (nullable = true)\n",
      " |-- installation_date: string (nullable = true)\n",
      "\n"
     ]
    }
   ],
   "source": [
    "trip_data = spark.read\\\n",
    ".option(\"header\", True)\\\n",
    ".option(\"inferSchema\", True)\\\n",
    ".option(\"timestampFormat\", 'M/d/y H:m')\\\n",
    ".csv(trips_path)\n",
    "\n",
    "print(\"Trips\")\n",
    "trip_data.printSchema()\n",
    "\n",
    "stations_data = spark.read\\\n",
    ".option(\"header\", True)\\\n",
    ".option(\"inferSchema\", True)\\\n",
    ".option(\"timestampFormat\", 'M/d/y H:m')\\\n",
    ".csv(stations_path)\n",
    "\n",
    "print(\"Stations\")\n",
    "stations_data.printSchema()"
   ]
  },
  {
   "cell_type": "markdown",
   "id": "64c477e6-8e4f-4adb-a558-f0148fad031c",
   "metadata": {},
   "source": [
    "## Задание 1. Найти велосипед с максимальным временем пробега"
   ]
  },
  {
   "cell_type": "code",
   "execution_count": 51,
   "id": "39be2465-a5c6-4cb8-99c0-c0a5e855f129",
   "metadata": {},
   "outputs": [
    {
     "name": "stdout",
     "output_type": "stream",
     "text": [
      "Велосипед #535 с суммарным временем пробега  = 36229902\n"
     ]
    }
   ],
   "source": [
    "# Группировка по id велосипеда и применение функции sum для подсчета времени пробега каждого велосипеда\n",
    "max_trips_duration_per_bike = trip_data.groupBy(\"bike_id\").agg(sum(col(\"duration\")).alias(\"total_trips_duration\"))\n",
    "\n",
    "# Выбор велосипеда с максимальным пробегом\n",
    "bike_with_max_trips_duration = max_trips_duration_per_bike.orderBy(col(\"total_trips_duration\").desc()).first()\n",
    "\n",
    "# Получение id велосипеда\n",
    "bike_id_with_max_duration = bike_with_max_trips_duration[\"bike_id\"]\n",
    "\n",
    "# Получение значения пробега\n",
    "total_duration = bike_with_max_trips_duration[\"total_trips_duration\"]\n",
    "\n",
    "print(f\"Велосипед #{bike_id_with_max_duration} с суммарным временем пробега  = {total_duration}\")"
   ]
  },
  {
   "cell_type": "markdown",
   "id": "6ac48049-99bb-48a0-bacc-ef8a98080845",
   "metadata": {},
   "source": [
    "## Задание 2. Найти наибольшее геодезическое расстояние между станциями"
   ]
  },
  {
   "cell_type": "code",
   "execution_count": 54,
   "id": "f84e1bdb-7308-45f5-9b97-8dacf9dc0bb5",
   "metadata": {},
   "outputs": [],
   "source": [
    "# Для вычисления \n",
    "from math import sin, cos, sqrt, atan2, radians\n",
    "\n",
    "def geodesic_distance(lat1, lon1, lat2, lon2):\n",
    "    # Радиус Земли в километрах\n",
    "    R = 6373.0\n",
    "    \n",
    "    # Конвертация в радианы\n",
    "    lat1 = radians(lat1)\n",
    "    lat2 = radians(lat2)\n",
    "    lon1 = radians(lon1)\n",
    "    lon2 = radians(lon2)\n",
    "\n",
    "    dlon = lon2 - lon1\n",
    "    dlat = lat2 - lat1\n",
    "    \n",
    "    # Вычисление геодезического расстояния по формуле Хаверсина\n",
    "    a = sin(dlat / 2)**2 + cos(lat1) * cos(lat2) * sin(dlon / 2)**2\n",
    "    c = 2 * atan2(sqrt(a), sqrt(1 - a))\n",
    "    distance = R * c\n",
    "    \n",
    "    return distance\n",
    "\n",
    "# Конвертация функции в pyspark.sql.functions.udf (user-defined function)\n",
    "geodesic_distance_udf = udf(geodesic_distance, DoubleType())"
   ]
  },
  {
   "cell_type": "code",
   "execution_count": 55,
   "id": "0f5a503c-b6ab-462a-9be7-2f869eb7bac7",
   "metadata": {},
   "outputs": [
    {
     "name": "stdout",
     "output_type": "stream",
     "text": [
      "Максимальное геодезическое расстояние между станциями равно 69.9428256877473 километрам\n"
     ]
    }
   ],
   "source": [
    "# Объединение датасета станций с самим собой для получения всех возможных пар\n",
    "station_pairs = stations_data.alias(\"station1\").crossJoin(stations_data.alias(\"station2\"))\n",
    "\n",
    "# Вычисление расстояния для каждой пары станций с помощью объявленной ранее функции\n",
    "station_pairs_with_distance = station_pairs.withColumn(\n",
    "    \"geodesic_distance\",\n",
    "    geodesic_distance_udf(\n",
    "        col(\"station1.lat\"),\n",
    "        col(\"station1.long\"),\n",
    "        col(\"station2.lat\"),\n",
    "        col(\"station2.long\")\n",
    "    )\n",
    ")\n",
    "\n",
    "# Поиск максимального геодезического расстояния среди всех расстояний для каждой пары станций\n",
    "max_distance = station_pairs_with_distance.selectExpr(\"max(geodesic_distance) as max_distance\").collect()[0][\"max_distance\"]\n",
    "\n",
    "print(f\"Максимальное геодезическое расстояние между станциями равно {max_distance} километрам\")"
   ]
  },
  {
   "cell_type": "markdown",
   "id": "be016e30-ef06-4123-b99e-61a34de5fd13",
   "metadata": {},
   "source": [
    "## Задание 3. Найти путь велосипеда с максимальным временем пробега через станции"
   ]
  },
  {
   "cell_type": "code",
   "execution_count": 11,
   "id": "45f74ae1-6faf-45fc-8755-75e3b1e8fb80",
   "metadata": {},
   "outputs": [
    {
     "name": "stdout",
     "output_type": "stream",
     "text": [
      "The longest trip (17270400 seconds) is from \"South Van Ness at Market\" to \"2nd at Folsom\"\n"
     ]
    }
   ],
   "source": [
    "# Сортировка по столбцу duration и выбор наиболее длительной поездки\n",
    "trip_with_max_duration = trip_data.select(\"start_station_name\", \"end_station_name\", \"duration\").orderBy(col(\"duration\").desc()).first()\n",
    "\n",
    "# Получение стартовой и конечной станций, а также времени поездки\n",
    "start_location = trip_with_max_duration[\"start_station_name\"]\n",
    "end_location = trip_with_max_duration[\"end_station_name\"]\n",
    "trip_time = trip_with_max_duration[\"duration\"]\n",
    "\n",
    "print(f\"Самая длинная поездка ({trip_time} секунд)  from \\\"{start_location}\\\" to \\\"{end_location}\\\"\")"
   ]
  },
  {
   "cell_type": "markdown",
   "id": "50013cfd-91dc-47df-8fdf-0842c2704b53",
   "metadata": {},
   "source": [
    "## Задание 4. Найти количество велосипедов в системе"
   ]
  },
  {
   "cell_type": "code",
   "execution_count": 12,
   "id": "7c4e73fb-20e9-4167-bd13-5470f9c3faff",
   "metadata": {},
   "outputs": [
    {
     "name": "stdout",
     "output_type": "stream",
     "text": [
      "Total number of bikes is 700\n"
     ]
    }
   ],
   "source": [
    "# Группировка по id велосипеда и подсчет уникальных значений id\n",
    "unique_bikes_count = trip_data.agg(countDistinct(\"bike_id\").alias(\"bike_count\")).collect()[0][\"bike_count\"]\n",
    "\n",
    "print(f\"Total number of bikes is {unique_bikes_count}\")"
   ]
  },
  {
   "cell_type": "markdown",
   "id": "39399a31-80f2-42d5-8115-c7c30796bad2",
   "metadata": {},
   "source": [
    "## Задание 5. Найти пользователей потративших на поездки более 3 часов"
   ]
  },
  {
   "cell_type": "code",
   "execution_count": 13,
   "id": "dd2ba011-1947-44c1-9b9f-faa4c141df43",
   "metadata": {},
   "outputs": [
    {
     "name": "stdout",
     "output_type": "stream",
     "text": [
      "+-------+----------+\n",
      "|bike_id|total_time|\n",
      "+-------+----------+\n",
      "|    471|   2504669|\n",
      "|    496|   2492338|\n",
      "|    148|    383620|\n",
      "|    463|   2631994|\n",
      "|    540|   2499857|\n",
      "|    392|   2664633|\n",
      "|    623|   2988761|\n",
      "|    243|    412598|\n",
      "|    516|   2760799|\n",
      "|     31|    587904|\n",
      "|    580|   1072279|\n",
      "|    137|   2238350|\n",
      "|    251|   1660026|\n",
      "|    451|   2461768|\n",
      "|     85|   2287621|\n",
      "|    458|   2286523|\n",
      "|     65|    327963|\n",
      "|    588|    266415|\n",
      "|    255|    477850|\n",
      "|     53|    338860|\n",
      "+-------+----------+\n",
      "only showing top 20 rows\n",
      "\n"
     ]
    }
   ],
   "source": [
    "# Группировка по id велосипеда и подсчет общего времени, проведенного в поездке\n",
    "users_with_total_trip_time = trip_data.groupBy(\"bike_id\").sum(\"duration\").withColumnRenamed(\"sum(duration)\", \"total_time\")\n",
    "users_with_total_trip_time.filter(\"total_time>10800\").show()"
   ]
  }
 ],
 "metadata": {
  "kernelspec": {
   "display_name": "Python 3",
   "language": "python",
   "name": "python3"
  },
  "language_info": {
   "codemirror_mode": {
    "name": "ipython",
    "version": 3
   },
   "file_extension": ".py",
   "mimetype": "text/x-python",
   "name": "python",
   "nbconvert_exporter": "python",
   "pygments_lexer": "ipython3",
   "version": "3.9.5"
  }
 },
 "nbformat": 4,
 "nbformat_minor": 5
}
